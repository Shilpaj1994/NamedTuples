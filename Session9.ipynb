{
  "nbformat": 4,
  "nbformat_minor": 0,
  "metadata": {
    "colab": {
      "name": "Session9.ipynb",
      "provenance": []
    },
    "kernelspec": {
      "name": "python3",
      "display_name": "Python 3"
    },
    "language_info": {
      "name": "python"
    }
  },
  "cells": [
    {
      "cell_type": "markdown",
      "metadata": {
        "id": "4ihRRIFbm1bC"
      },
      "source": [
        "## Imports"
      ]
    },
    {
      "cell_type": "code",
      "metadata": {
        "colab": {
          "base_uri": "https://localhost:8080/"
        },
        "id": "P66zZ2tUm32O",
        "outputId": "87564ff2-d2af-4d3b-d27e-9b822381becf"
      },
      "source": [
        "# Standard Library Imports\n",
        "import datetime\n",
        "import random\n",
        "from string import ascii_letters\n",
        "from time import perf_counter\n",
        "from operator import truediv, mul, add\n",
        "from collections import namedtuple, Counter\n",
        "from typing import NamedTuple\n",
        "\n",
        "# Third-Party Imports\n",
        "!pip install faker\n",
        "from faker import Faker"
      ],
      "execution_count": 2,
      "outputs": [
        {
          "output_type": "stream",
          "text": [
            "Collecting faker\n",
            "\u001b[?25l  Downloading https://files.pythonhosted.org/packages/e4/be/d03e305f1d879f541c23d586023ec11b124d6cc3d75a95159470754134d9/Faker-8.10.0-py3-none-any.whl (1.2MB)\n",
            "\r\u001b[K     |▎                               | 10kB 11.2MB/s eta 0:00:01\r\u001b[K     |▋                               | 20kB 15.7MB/s eta 0:00:01\r\u001b[K     |▉                               | 30kB 19.7MB/s eta 0:00:01\r\u001b[K     |█▏                              | 40kB 22.0MB/s eta 0:00:01\r\u001b[K     |█▍                              | 51kB 19.1MB/s eta 0:00:01\r\u001b[K     |█▊                              | 61kB 12.8MB/s eta 0:00:01\r\u001b[K     |██                              | 71kB 13.0MB/s eta 0:00:01\r\u001b[K     |██▎                             | 81kB 14.1MB/s eta 0:00:01\r\u001b[K     |██▌                             | 92kB 14.2MB/s eta 0:00:01\r\u001b[K     |██▉                             | 102kB 14.2MB/s eta 0:00:01\r\u001b[K     |███                             | 112kB 14.2MB/s eta 0:00:01\r\u001b[K     |███▍                            | 122kB 14.2MB/s eta 0:00:01\r\u001b[K     |███▋                            | 133kB 14.2MB/s eta 0:00:01\r\u001b[K     |████                            | 143kB 14.2MB/s eta 0:00:01\r\u001b[K     |████▏                           | 153kB 14.2MB/s eta 0:00:01\r\u001b[K     |████▌                           | 163kB 14.2MB/s eta 0:00:01\r\u001b[K     |████▊                           | 174kB 14.2MB/s eta 0:00:01\r\u001b[K     |█████                           | 184kB 14.2MB/s eta 0:00:01\r\u001b[K     |█████▎                          | 194kB 14.2MB/s eta 0:00:01\r\u001b[K     |█████▋                          | 204kB 14.2MB/s eta 0:00:01\r\u001b[K     |█████▉                          | 215kB 14.2MB/s eta 0:00:01\r\u001b[K     |██████▏                         | 225kB 14.2MB/s eta 0:00:01\r\u001b[K     |██████▍                         | 235kB 14.2MB/s eta 0:00:01\r\u001b[K     |██████▊                         | 245kB 14.2MB/s eta 0:00:01\r\u001b[K     |███████                         | 256kB 14.2MB/s eta 0:00:01\r\u001b[K     |███████▎                        | 266kB 14.2MB/s eta 0:00:01\r\u001b[K     |███████▌                        | 276kB 14.2MB/s eta 0:00:01\r\u001b[K     |███████▉                        | 286kB 14.2MB/s eta 0:00:01\r\u001b[K     |████████                        | 296kB 14.2MB/s eta 0:00:01\r\u001b[K     |████████▍                       | 307kB 14.2MB/s eta 0:00:01\r\u001b[K     |████████▊                       | 317kB 14.2MB/s eta 0:00:01\r\u001b[K     |█████████                       | 327kB 14.2MB/s eta 0:00:01\r\u001b[K     |█████████▎                      | 337kB 14.2MB/s eta 0:00:01\r\u001b[K     |█████████▌                      | 348kB 14.2MB/s eta 0:00:01\r\u001b[K     |█████████▉                      | 358kB 14.2MB/s eta 0:00:01\r\u001b[K     |██████████                      | 368kB 14.2MB/s eta 0:00:01\r\u001b[K     |██████████▍                     | 378kB 14.2MB/s eta 0:00:01\r\u001b[K     |██████████▋                     | 389kB 14.2MB/s eta 0:00:01\r\u001b[K     |███████████                     | 399kB 14.2MB/s eta 0:00:01\r\u001b[K     |███████████▏                    | 409kB 14.2MB/s eta 0:00:01\r\u001b[K     |███████████▌                    | 419kB 14.2MB/s eta 0:00:01\r\u001b[K     |███████████▊                    | 430kB 14.2MB/s eta 0:00:01\r\u001b[K     |████████████                    | 440kB 14.2MB/s eta 0:00:01\r\u001b[K     |████████████▎                   | 450kB 14.2MB/s eta 0:00:01\r\u001b[K     |████████████▋                   | 460kB 14.2MB/s eta 0:00:01\r\u001b[K     |████████████▉                   | 471kB 14.2MB/s eta 0:00:01\r\u001b[K     |█████████████▏                  | 481kB 14.2MB/s eta 0:00:01\r\u001b[K     |█████████████▍                  | 491kB 14.2MB/s eta 0:00:01\r\u001b[K     |█████████████▊                  | 501kB 14.2MB/s eta 0:00:01\r\u001b[K     |██████████████                  | 512kB 14.2MB/s eta 0:00:01\r\u001b[K     |██████████████▎                 | 522kB 14.2MB/s eta 0:00:01\r\u001b[K     |██████████████▌                 | 532kB 14.2MB/s eta 0:00:01\r\u001b[K     |██████████████▉                 | 542kB 14.2MB/s eta 0:00:01\r\u001b[K     |███████████████                 | 552kB 14.2MB/s eta 0:00:01\r\u001b[K     |███████████████▍                | 563kB 14.2MB/s eta 0:00:01\r\u001b[K     |███████████████▋                | 573kB 14.2MB/s eta 0:00:01\r\u001b[K     |████████████████                | 583kB 14.2MB/s eta 0:00:01\r\u001b[K     |████████████████▏               | 593kB 14.2MB/s eta 0:00:01\r\u001b[K     |████████████████▌               | 604kB 14.2MB/s eta 0:00:01\r\u001b[K     |████████████████▉               | 614kB 14.2MB/s eta 0:00:01\r\u001b[K     |█████████████████               | 624kB 14.2MB/s eta 0:00:01\r\u001b[K     |█████████████████▍              | 634kB 14.2MB/s eta 0:00:01\r\u001b[K     |█████████████████▋              | 645kB 14.2MB/s eta 0:00:01\r\u001b[K     |██████████████████              | 655kB 14.2MB/s eta 0:00:01\r\u001b[K     |██████████████████▏             | 665kB 14.2MB/s eta 0:00:01\r\u001b[K     |██████████████████▌             | 675kB 14.2MB/s eta 0:00:01\r\u001b[K     |██████████████████▊             | 686kB 14.2MB/s eta 0:00:01\r\u001b[K     |███████████████████             | 696kB 14.2MB/s eta 0:00:01\r\u001b[K     |███████████████████▎            | 706kB 14.2MB/s eta 0:00:01\r\u001b[K     |███████████████████▋            | 716kB 14.2MB/s eta 0:00:01\r\u001b[K     |███████████████████▉            | 727kB 14.2MB/s eta 0:00:01\r\u001b[K     |████████████████████▏           | 737kB 14.2MB/s eta 0:00:01\r\u001b[K     |████████████████████▍           | 747kB 14.2MB/s eta 0:00:01\r\u001b[K     |████████████████████▊           | 757kB 14.2MB/s eta 0:00:01\r\u001b[K     |█████████████████████           | 768kB 14.2MB/s eta 0:00:01\r\u001b[K     |█████████████████████▎          | 778kB 14.2MB/s eta 0:00:01\r\u001b[K     |█████████████████████▌          | 788kB 14.2MB/s eta 0:00:01\r\u001b[K     |█████████████████████▉          | 798kB 14.2MB/s eta 0:00:01\r\u001b[K     |██████████████████████          | 808kB 14.2MB/s eta 0:00:01\r\u001b[K     |██████████████████████▍         | 819kB 14.2MB/s eta 0:00:01\r\u001b[K     |██████████████████████▋         | 829kB 14.2MB/s eta 0:00:01\r\u001b[K     |███████████████████████         | 839kB 14.2MB/s eta 0:00:01\r\u001b[K     |███████████████████████▏        | 849kB 14.2MB/s eta 0:00:01\r\u001b[K     |███████████████████████▌        | 860kB 14.2MB/s eta 0:00:01\r\u001b[K     |███████████████████████▊        | 870kB 14.2MB/s eta 0:00:01\r\u001b[K     |████████████████████████        | 880kB 14.2MB/s eta 0:00:01\r\u001b[K     |████████████████████████▎       | 890kB 14.2MB/s eta 0:00:01\r\u001b[K     |████████████████████████▋       | 901kB 14.2MB/s eta 0:00:01\r\u001b[K     |████████████████████████▉       | 911kB 14.2MB/s eta 0:00:01\r\u001b[K     |█████████████████████████▏      | 921kB 14.2MB/s eta 0:00:01\r\u001b[K     |█████████████████████████▌      | 931kB 14.2MB/s eta 0:00:01\r\u001b[K     |█████████████████████████▊      | 942kB 14.2MB/s eta 0:00:01\r\u001b[K     |██████████████████████████      | 952kB 14.2MB/s eta 0:00:01\r\u001b[K     |██████████████████████████▎     | 962kB 14.2MB/s eta 0:00:01\r\u001b[K     |██████████████████████████▋     | 972kB 14.2MB/s eta 0:00:01\r\u001b[K     |██████████████████████████▉     | 983kB 14.2MB/s eta 0:00:01\r\u001b[K     |███████████████████████████▏    | 993kB 14.2MB/s eta 0:00:01\r\u001b[K     |███████████████████████████▍    | 1.0MB 14.2MB/s eta 0:00:01\r\u001b[K     |███████████████████████████▊    | 1.0MB 14.2MB/s eta 0:00:01\r\u001b[K     |████████████████████████████    | 1.0MB 14.2MB/s eta 0:00:01\r\u001b[K     |████████████████████████████▎   | 1.0MB 14.2MB/s eta 0:00:01\r\u001b[K     |████████████████████████████▌   | 1.0MB 14.2MB/s eta 0:00:01\r\u001b[K     |████████████████████████████▉   | 1.1MB 14.2MB/s eta 0:00:01\r\u001b[K     |█████████████████████████████   | 1.1MB 14.2MB/s eta 0:00:01\r\u001b[K     |█████████████████████████████▍  | 1.1MB 14.2MB/s eta 0:00:01\r\u001b[K     |█████████████████████████████▋  | 1.1MB 14.2MB/s eta 0:00:01\r\u001b[K     |██████████████████████████████  | 1.1MB 14.2MB/s eta 0:00:01\r\u001b[K     |██████████████████████████████▏ | 1.1MB 14.2MB/s eta 0:00:01\r\u001b[K     |██████████████████████████████▌ | 1.1MB 14.2MB/s eta 0:00:01\r\u001b[K     |██████████████████████████████▊ | 1.1MB 14.2MB/s eta 0:00:01\r\u001b[K     |███████████████████████████████ | 1.1MB 14.2MB/s eta 0:00:01\r\u001b[K     |███████████████████████████████▎| 1.1MB 14.2MB/s eta 0:00:01\r\u001b[K     |███████████████████████████████▋| 1.2MB 14.2MB/s eta 0:00:01\r\u001b[K     |███████████████████████████████▉| 1.2MB 14.2MB/s eta 0:00:01\r\u001b[K     |████████████████████████████████| 1.2MB 14.2MB/s \n",
            "\u001b[?25hRequirement already satisfied: text-unidecode==1.3 in /usr/local/lib/python3.7/dist-packages (from faker) (1.3)\n",
            "Requirement already satisfied: python-dateutil>=2.4 in /usr/local/lib/python3.7/dist-packages (from faker) (2.8.1)\n",
            "Requirement already satisfied: six>=1.5 in /usr/local/lib/python3.7/dist-packages (from python-dateutil>=2.4->faker) (1.15.0)\n",
            "Installing collected packages: faker\n",
            "Successfully installed faker-8.10.0\n"
          ],
          "name": "stdout"
        }
      ]
    },
    {
      "cell_type": "code",
      "metadata": {
        "id": "ShqX4U03m4oV"
      },
      "source": [
        "# Seeding to ensure same data generation for test cases\n",
        "fake = Faker()\n",
        "Faker.seed(0)"
      ],
      "execution_count": 3,
      "outputs": []
    },
    {
      "cell_type": "code",
      "metadata": {
        "id": "jyTRKYY2nOeh"
      },
      "source": [
        "def is_namedtuple_instance(instance) -> bool:\n",
        "    \"\"\"\n",
        "    Function to check whether a variable is an instance of a namedtuple\n",
        "    :param instance: variable to be checked\n",
        "    :return: True/False\n",
        "    \"\"\"\n",
        "    # Check type and base classes\n",
        "    _type = type(instance)\n",
        "    _bases = _type.__bases__\n",
        "\n",
        "    # Tuple is the parent class of namedtuple so if tuple is not present in bases then return False\n",
        "    if len(_bases) != 1 or _bases[0] != tuple:\n",
        "        return False\n",
        "\n",
        "    # Named-tuples have _fields attributes like dictionary so return False if attributes are not instance of tuples\n",
        "    fields_ = getattr(_type, '_fields', None)\n",
        "    if not isinstance(fields_, tuple):\n",
        "        return False\n",
        "\n",
        "    return all(type(field) == str for field in fields_)"
      ],
      "execution_count": 4,
      "outputs": []
    },
    {
      "cell_type": "code",
      "metadata": {
        "id": "M8M7FeLqnRld"
      },
      "source": [
        "def generate_profiles(number_of_samples) -> list:\n",
        "    \"\"\"\n",
        "    Function to generate profiles using faker library\n",
        "    :param number_of_samples: Number of profiles need to be generated\n",
        "    :return: List of dictionaries(generated profiles)\n",
        "    \"\"\"\n",
        "    print(\"Generating Profiles ....\")\n",
        "    profiles = []\n",
        "    [profiles.append(fake.profile()) for i in range(number_of_samples)]\n",
        "    return profiles\n"
      ],
      "execution_count": 5,
      "outputs": []
    },
    {
      "cell_type": "code",
      "metadata": {
        "id": "MvcYNbwonTgw"
      },
      "source": [
        "def dictionary_operations(_list_of_dictionaries: list) -> dict:\n",
        "    \"\"\"\n",
        "    Function to calculate the blood type count, mean_location, oldest person age, and average age of all the profiles\n",
        "    from the sample profiles.\n",
        "    :param _list_of_dictionaries: list of generated profiles which are of dictionary type\n",
        "    :return: dictionary of blood group count, mean location, name and age of oldest person, and average age of all\n",
        "    the profiles\n",
        "    \"\"\"\n",
        "    # Lists, dictionaries and variables to collect the profiles' data which is used for calculations\n",
        "    _blood_group = []\n",
        "    x_location = []\n",
        "    y_location = []\n",
        "    _days = dict()\n",
        "    temp_ = dict()\n",
        "    _index = None\n",
        "    oldest_days = None\n",
        "\n",
        "    if isinstance(_list_of_dictionaries, list) and len(_list_of_dictionaries) > 0 and isinstance(_list_of_dictionaries[0], dict):\n",
        "        for index, profile in enumerate(_list_of_dictionaries):\n",
        "            for parameter, data in profile.items():\n",
        "                # Update the blood group data\n",
        "                if parameter == \"blood_group\":\n",
        "                    _blood_group.append(data)\n",
        "\n",
        "                # Calculate mean current location\n",
        "                if parameter == \"current_location\":\n",
        "                    x_location.append(data[0])\n",
        "                    y_location.append(data[1])\n",
        "\n",
        "                # Oldest person age\n",
        "                if parameter == \"birthdate\":\n",
        "                    _days[index] = (datetime.date.today() - data).days\n",
        "                    oldest_days = max(_days.values())\n",
        "\n",
        "        # Find the indexes of all the persons with same oldest age in days\n",
        "        _indexes = [key for key, value in _days.items() if value == oldest_days]\n",
        "        for _index in _indexes:\n",
        "            temp_[_list_of_dictionaries[_index][\"name\"]] = oldest_days\n",
        "\n",
        "        _blood_group_count = Counter(_blood_group)\n",
        "\n",
        "        x_mean = truediv(sum(x_location), len(_list_of_dictionaries))\n",
        "        y_mean = truediv(sum(y_location), len(_list_of_dictionaries))\n",
        "\n",
        "        # Average age\n",
        "        avg_age = truediv(sum(_days.values()), len(_list_of_dictionaries))\n",
        "\n",
        "        output = {'blood_count': _blood_group_count,\n",
        "                  'mean_location': (x_mean, y_mean),\n",
        "                  'name_age_of_oldest_person': temp_,\n",
        "                  'average_age_of_profiles': avg_age}\n",
        "        return output\n",
        "    elif type(_list_of_dictionaries) is not list:\n",
        "        raise TypeError(f\"Expected input data is list but received {type(_list_of_dictionaries)}\")\n",
        "    elif len(_list_of_dictionaries) == 0:\n",
        "        raise ValueError(\"Enter Valid data. Empty list passed to the function\")\n",
        "    elif type(_list_of_dictionaries[0]) is not dict:\n",
        "        raise TypeError(f\"Enter correct type of data. Data passed is {type(_list_of_dictionaries[0])} and expected \"\n",
        "                        f\"data is dictionary\")"
      ],
      "execution_count": 6,
      "outputs": []
    },
    {
      "cell_type": "code",
      "metadata": {
        "id": "Q2FBscpInV84"
      },
      "source": [
        "def namedtuple_operations(list_of_tuples) -> NamedTuple:\n",
        "    \"\"\"\n",
        "    Function to perform operations of namedtuple\n",
        "    :param list_of_tuples: list of generated profiles in namedtuple datatype\n",
        "    :return: namedtuple of blood_group_count, mean_location, name_of_oldest_person, age and average age of all profiles\n",
        "    \"\"\"\n",
        "    # Variables for calculations\n",
        "    _blood_list = []\n",
        "    x_data = []\n",
        "    y_data = []\n",
        "    _days = []\n",
        "\n",
        "    # Define and add docstring to the output namedtuple\n",
        "    Output = namedtuple('Output', \"blood_group_count mean_location name_of_oldest_person age average_age\")\n",
        "    Output.__doc__ = \"NamedTuple for the output of the calculations\"\n",
        "    Output.blood_group_count.__doc__ = \"Total number of individuals having respective blood group in the dataset\"\n",
        "    Output.mean_location.__doc__ = \"Mean location of all the individuals in the profiles\"\n",
        "    Output.name_of_oldest_person.__doc__ = \"Name of the oldest individual in the profiles\"\n",
        "    Output.age.__doc__ = \"Age of the oldest individual in days\"\n",
        "    Output.average_age.__doc__ = \"Average age of all the individuals in the profiles\"\n",
        "\n",
        "    if len(list_of_tuples) > 0 and is_namedtuple_instance(list_of_tuples[0]) and isinstance(list_of_tuples, list):\n",
        "        for _tuple in list_of_tuples:\n",
        "            # Append data to a list to calculate the blood group count\n",
        "            _blood_list.append(_tuple.blood_group)\n",
        "\n",
        "            # Append current location (x, y) to the list for mean calculations\n",
        "            x_data.append(_tuple.current_location[0])\n",
        "            y_data.append(_tuple.current_location[1])\n",
        "\n",
        "            # Oldest Person Age\n",
        "            _days.append((datetime.date.today() - _tuple.birthdate).days)\n",
        "\n",
        "        # Code to calculate the count of blood group\n",
        "        _blood_group_count = Counter(_blood_list)\n",
        "\n",
        "        # Calculations for mean location\n",
        "        x_mean = truediv(sum(x_data), len(list_of_tuples))\n",
        "        y_mean = truediv(sum(y_data), len(list_of_tuples))\n",
        "\n",
        "        # Code to check the name of oldest person\n",
        "        oldest_days = max(_days)\n",
        "        oldest_person_names = [list_of_tuples[index].name for index, _day in enumerate(_days) if _day == oldest_days]\n",
        "\n",
        "        # Average age calculations\n",
        "        avg_age = truediv(sum(_days), len(list_of_tuples))\n",
        "\n",
        "        # Create an instance of output namedtuple to return the calculated data\n",
        "        output = Output(blood_group_count=_blood_group_count,\n",
        "                        mean_location=(x_mean, y_mean),\n",
        "                        name_of_oldest_person=oldest_person_names,\n",
        "                        age=oldest_days,\n",
        "                        average_age=avg_age)\n",
        "        return output\n",
        "    elif type(list_of_tuples) is not list:\n",
        "        raise TypeError(f\"Expected input data is list but received {type(list_of_tuples)}\")\n",
        "    elif len(list_of_tuples) == 0:\n",
        "        raise ValueError(\"Enter Valid data. Empty list passed to the function\")\n",
        "    elif not is_namedtuple_instance(list_of_tuples[0]):\n",
        "        raise TypeError(f\"Enter correct type of data. Data passed is {type(list_of_tuples[0])} and expected \"\n",
        "                        f\"data is namedtuple\")"
      ],
      "execution_count": 7,
      "outputs": []
    },
    {
      "cell_type": "code",
      "metadata": {
        "id": "4btS8eXgnYnv"
      },
      "source": [
        "def compare_namedtuple_and_dictionaries() -> None:\n",
        "    \"\"\"\n",
        "    Function to compare the performance of namedtuples and dictionaries over the 10K profile for same data output\n",
        "    :return: None\n",
        "    \"\"\"\n",
        "    # Variables used for calculations\n",
        "    list_of_named_tuples = []\n",
        "\n",
        "    # Generate 10K profiles\n",
        "    list_of_dictionaries = generate_profiles(10_000)\n",
        "\n",
        "    # Perform operations on the dictionary\n",
        "    start = perf_counter()\n",
        "    _ = dictionary_operations(list_of_dictionaries)\n",
        "    elapsed_dict = perf_counter() - start\n",
        "    print(\"Output: \", _)\n",
        "    print(\"Operation Time on Dictionary: \", elapsed_dict)\n",
        "    print()\n",
        "\n",
        "    # Sample profile to create named tuple fields\n",
        "    sample_profile = list_of_dictionaries[1]\n",
        "\n",
        "    # Create and add docstring to the namedtuple profile\n",
        "    PersonProfile = namedtuple('PersonProfile', sorted(sample_profile.keys()))\n",
        "    PersonProfile.__doc__ = \"Profile of an individual containing data associated with that individual\"\n",
        "    PersonProfile.address.__doc__ = \"Address of an individual in String format\"\n",
        "    PersonProfile.birthdate.__doc__ = \"Date of birth of an individual in datetime.date(year, month, day) format\"\n",
        "    PersonProfile.blood_group.__doc__ = \"Blood group of an individual in String format\"\n",
        "    PersonProfile.company.__doc__ = \"Name of a company with which an individual is associated with in String format\"\n",
        "    PersonProfile.current_location.__doc__ = \"Current location of an individual in tuple of Decimals format\"\n",
        "    PersonProfile.job.__doc__ = \"Job of an individual in String format\"\n",
        "    PersonProfile.mail.__doc__ = \"Email address of an individual in String format\"\n",
        "    PersonProfile.name.__doc__ = \"Name of an individual in String format\"\n",
        "    PersonProfile.residence.__doc__ = \"Residence of an individual in String format\"\n",
        "    PersonProfile.sex.__doc__ = \"Gender of an individual in String format\"\n",
        "    PersonProfile.ssn.__doc__ = \"Social Security Number of an individual in String format\"\n",
        "    PersonProfile.username.__doc__ = \"Username of an individual in String format\"\n",
        "    PersonProfile.website.__doc__ = \"Websites of an individual in list of String format\"\n",
        "\n",
        "    # Create a list of named tuple\n",
        "    [list_of_named_tuples.append(PersonProfile(**profile)) for profile in list_of_dictionaries]\n",
        "    print(list_of_named_tuples[0])\n",
        "    print()\n",
        "\n",
        "    # Perform same operations on the namedtuple\n",
        "    start = perf_counter()\n",
        "    _ = namedtuple_operations(list_of_named_tuples)\n",
        "    elapsed_named_tuple = perf_counter() - start\n",
        "    print(\"Output: \", _)\n",
        "    print(\"Operation Time on NamedTuples: \", elapsed_named_tuple)\n",
        "\n",
        "    print()\n",
        "    print(f\"Tuples are faster than dictionaries by {elapsed_dict / elapsed_named_tuple} times\")"
      ],
      "execution_count": 8,
      "outputs": []
    },
    {
      "cell_type": "code",
      "metadata": {
        "colab": {
          "base_uri": "https://localhost:8080/"
        },
        "id": "sXdlXq89nb_M",
        "outputId": "9927da90-d0aa-49aa-fcac-7a47e6630fac"
      },
      "source": [
        "# Part one of comparing performance of named-tuples and dictionaries\n",
        "compare_namedtuple_and_dictionaries()"
      ],
      "execution_count": 9,
      "outputs": [
        {
          "output_type": "stream",
          "text": [
            "Generating Profiles ....\n",
            "Output:  {'blood_count': Counter({'AB+': 1300, 'O-': 1284, 'B+': 1274, 'O+': 1251, 'A+': 1249, 'B-': 1230, 'AB-': 1216, 'A-': 1196}), 'mean_location': (Decimal('0.4583500264'), Decimal('-0.5367035854')), 'name_age_of_oldest_person': {'Jay Montes': 42363}, 'average_age_of_profiles': 21306.7393}\n",
            "Operation Time on Dictionary:  1.1294328550000046\n",
            "\n",
            "PersonProfile(address='711 Golden Overpass\\nWest Andreaville, MA 71317', birthdate=datetime.date(1944, 9, 2), blood_group='B+', company='Williams-Sheppard', current_location=(Decimal('52.958961'), Decimal('143.143712')), job='Musician', mail='tamaramorrison@hotmail.com', name='Gary Cross', residence='Unit 5938 Box 2421\\nDPO AP 33335', sex='M', ssn='498-52-4970', username='leeashley', website=['http://www.rivera.com/', 'http://grimes-green.net/', 'http://www.larsen.com/'])\n",
            "\n",
            "Output:  Output(blood_group_count=Counter({'AB+': 1300, 'O-': 1284, 'B+': 1274, 'O+': 1251, 'A+': 1249, 'B-': 1230, 'AB-': 1216, 'A-': 1196}), mean_location=(Decimal('0.4583500264'), Decimal('-0.5367035854')), name_of_oldest_person=['Jay Montes'], age=42363, average_age=21306.7393)\n",
            "Operation Time on NamedTuples:  0.030577883999967526\n",
            "\n",
            "Tuples are faster than dictionaries by 36.936265930016745 times\n"
          ],
          "name": "stdout"
        }
      ]
    },
    {
      "cell_type": "code",
      "metadata": {
        "id": "TDOHpP6Ynejc"
      },
      "source": [
        "def generate_price(share_price, percentage_change, high=False):\n",
        "    \"\"\"\n",
        "    Function to generate prices of the share\n",
        "    :param high: True to generate the highest price of the stock\n",
        "    :param share_price: Random price of a share\n",
        "    :param percentage_change: Maximum percentage change in share price\n",
        "    :return: share price\n",
        "    \"\"\"\n",
        "    delta = mul(truediv(percentage_change, 100), share_price)\n",
        "    if high:\n",
        "        return share_price + delta\n",
        "    else:\n",
        "        stock_price = random.randint(int(share_price - delta), int(share_price + delta))\n",
        "        return stock_price"
      ],
      "execution_count": 11,
      "outputs": []
    },
    {
      "cell_type": "code",
      "metadata": {
        "id": "O5cnbXPYnhxO"
      },
      "source": [
        "def generate_stock_data(number_of_companies):\n",
        "    \"\"\"\n",
        "    Function to generate stock data for 100 companies\n",
        "    :param number_of_companies: number of companies for which data is generated\n",
        "    :return: NamedTuple with fields - name, symbol, open, high, close\n",
        "    \"\"\"\n",
        "    _list_of_companies = []\n",
        "    market_percentage_fluctuation = 5\n",
        "    share_min_price = 100\n",
        "    share_max_price = 2000\n",
        "    symbol_length = 3\n",
        "    _list_of_market_cap = []\n",
        "    _list_of_company_symbol = []\n",
        "\n",
        "    CompanyStock = namedtuple('CompanyStock', \"name symbol open high close market_cap company_weight\",\n",
        "                              defaults=[None] * 7)\n",
        "    CompanyStock.name.__doc__ = \"Name of the company\"\n",
        "    CompanyStock.symbol.__doc__ = \"Symbol of the company\"\n",
        "    CompanyStock.open.__doc__ = \"Opening share price of the company\"\n",
        "    CompanyStock.close.__doc__ = \"Closing share price of the company\"\n",
        "    CompanyStock.market_cap.__doc__ = \"Market capital of the company\"\n",
        "    CompanyStock.company_weight.__doc__ = \"Weight of the company on stock exchange\"\n",
        "\n",
        "    for i in range(number_of_companies):\n",
        "        # Generate company name\n",
        "        company_name = fake.company()\n",
        "\n",
        "        # Generate company symbol\n",
        "        company_symbol = company_name[0:symbol_length].upper()\n",
        "        company_symbol = company_symbol.replace(' ', random.choice(ascii_letters))\n",
        "        company_symbol = company_symbol.replace(',', random.choice(ascii_letters))\n",
        "        _list_of_company_symbol.append(company_symbol)\n",
        "\n",
        "        # Generate a random market_cap for the company\n",
        "        company_market_cap = random.randint(1_000_000, 1_000_000_000)\n",
        "        _list_of_market_cap.append(company_market_cap)\n",
        "\n",
        "        # Opening price of company's stock\n",
        "        company_open_price = generate_price(random.randint(share_min_price, share_max_price),\n",
        "                                            random.randint(0, market_percentage_fluctuation))\n",
        "\n",
        "        # High price of company's stock\n",
        "        company_high_price = generate_price(company_open_price, market_percentage_fluctuation, high=True)\n",
        "\n",
        "        # Closing price of company's stock\n",
        "        company_close_price = generate_price(company_open_price, random.randint(0, market_percentage_fluctuation))\n",
        "\n",
        "        company = CompanyStock(name=company_name, symbol=company_symbol, open=company_open_price,\n",
        "                               high=company_high_price, close=company_close_price, market_cap=company_market_cap,\n",
        "                               company_weight=None)\n",
        "\n",
        "        # Append the stock data in namedtuple format\n",
        "        _list_of_companies.append(company)\n",
        "\n",
        "    _opening_market_value = sum(_list_of_market_cap)\n",
        "    _list_of_companies = [company._replace(company_weight=(company.market_cap / _opening_market_value)) for company in _list_of_companies]\n",
        "\n",
        "    return _list_of_companies, _opening_market_value, _list_of_company_symbol"
      ],
      "execution_count": 12,
      "outputs": []
    },
    {
      "cell_type": "code",
      "metadata": {
        "id": "m2uzCOFonlZd"
      },
      "source": [
        "def stock_market_():\n",
        "    \"\"\"\n",
        "    Generate one instance of the market and calculate the change in the market points\n",
        "    :return:\n",
        "    \"\"\"\n",
        "    # Variables used for the code\n",
        "    _market_trades = []\n",
        "    _new_market_value = []\n",
        "\n",
        "    # Generate the stock data in namedtuple format for 100 companies\n",
        "    list_of_companies, opening_market_value, list_of_company_symbol = generate_stock_data(100)\n",
        "\n",
        "    for _company in list_of_companies:\n",
        "        new_company_value = add(_company.market_cap, truediv(mul(_company.market_cap, random.randint(-10, 10)), 100))\n",
        "        _new_market_value.append(new_company_value)\n",
        "\n",
        "    print(f\"Opening Market Value: {opening_market_value}\")\n",
        "    print(f\"New Values: {_new_market_value}\")\n",
        "    current_market_value = sum(_new_market_value)\n",
        "    print(f\"Current Market Value: {current_market_value}\")\n",
        "    market_change_in_points = (current_market_value - opening_market_value) / opening_market_value\n",
        "    print(f\"Change: {100 + market_change_in_points}\")"
      ],
      "execution_count": 13,
      "outputs": []
    },
    {
      "cell_type": "code",
      "metadata": {
        "colab": {
          "base_uri": "https://localhost:8080/"
        },
        "id": "i8Yt4GbznqcX",
        "outputId": "67b499bd-2e06-43a8-9d13-db55c12a8c8f"
      },
      "source": [
        "# Part two of generating stock data\n",
        "stock_market_()"
      ],
      "execution_count": 14,
      "outputs": [
        {
          "output_type": "stream",
          "text": [
            "Opening Market Value: 47239371634\n",
            "New Values: [532998850.32, 65998289.41, 179308741.81, 601431431.5, 742490449.61, 217376248.32, 760343242.32, 50531451.6, 37752667.4, 254543717.68, 785061584.8, 396451233.6, 812964640.5, 610012726.29, 916183324.46, 161378485.92, 838896193.15, 725054008.7, 428408576.22, 119467089.98, 164251540.0, 489020447.7, 540954987.63, 587299264.2, 817979424.18, 391327699.5, 961220296.67, 752520644.16, 456004636.38, 243408756.8, 889161186.87, 886836793.5, 807456306.24, 734161680.0, 64929151.28, 940001559.1, 230407019.7, 751812063.75, 105429794.26, 858999329.0, 144613743.6, 780710837.94, 203361302.52, 469083099.84, 285429638.62, 335327986.4, 980655428.55, 433696559.65999997, 487649765.08, 67962346.2, 548203098.35, 373922129.9, 8402584.48, 445380169.43, 525490765.3, 527613492.7, 372748115.52, 71081991.75, 216463503.64, 228500563.2, 363006207.0, 764311228.25, 996198621.3, 233883315.36, 115601927.0, 708457226.88, 768829171.67, 702404582.66, 445355469.9, 725267671.74, 152560370.16, 139508307.37, 667265190.3, 534247322.4, 182564439.3, 47757045.6, 359726408.16, 584149617.0, 700773029.92, 855004521.54, 782084048.2, 524385540.5, 639393116.88, 214452006.86, 56480735.68, 191802589.2, 351409426.14, 403448097.76, 101166309.52, 259063825.5, 63826492.35, 1022227076.85, 635553734.83, 184946628.74, 245695893.1, 231787430.0, 1044900352.65, 472042576.92, 1060241000.4, 425734558.34000003]\n",
            "Current Market Value: 47373645771.119995\n",
            "Change: 100.00284242005081\n"
          ],
          "name": "stdout"
        }
      ]
    },
    {
      "cell_type": "code",
      "metadata": {
        "id": "EZSEAuSwnsVg"
      },
      "source": [
        ""
      ],
      "execution_count": null,
      "outputs": []
    }
  ]
}